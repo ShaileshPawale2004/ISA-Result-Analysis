{
  "nbformat": 4,
  "nbformat_minor": 0,
  "metadata": {
    "colab": {
      "provenance": []
    },
    "kernelspec": {
      "name": "python3",
      "display_name": "Python 3"
    },
    "language_info": {
      "name": "python"
    }
  },
  "cells": [
    {
      "cell_type": "code",
      "execution_count": 1,
      "metadata": {
        "id": "W_58-_w_doYo"
      },
      "outputs": [],
      "source": [
        "import pandas as pd\n",
        "import numpy as np\n",
        "import matplotlib.pyplot as plt\n",
        "import os\n",
        "import re\n",
        "from IPython.display import display, Markdown\n"
      ]
    },
    {
      "cell_type": "code",
      "source": [
        "with open(\"/content/CN1_M1.txt\", \"r\", encoding=\"utf-8\") as f:\n",
        "    qp_text = f.read()\n",
        "\n",
        "pattern = re.compile(\n",
        "    r\"(?P<QNo>[1-9][a-z])\\s*[\\n:]?\"\n",
        "    r\"(?P<Question>.*?)\\s+\"\n",
        "    r\"(?P<Marks>\\d+)\\s+\"\n",
        "    r\"(?P<CO>\\d+)\\s+\"\n",
        "    r\"(?P<BloomLevel>L\\d+)\\s+\"\n",
        "    r\"(?P<PO>\\d+)\\s+\"\n",
        "    r\"(?P<PICode>\\d+\\.\\d+\\.\\d+)\",\n",
        "    re.DOTALL\n",
        ")\n",
        "\n",
        "matches = pattern.findall(qp_text)\n",
        "qp_metadata = pd.DataFrame(matches, columns=[\"Q.No\", \"Question\", \"Max Marks\", \"CO\", \"Bloom Level\", \"PO\", \"PI Code\"])\n",
        "qp_metadata[\"Q.No\"] = qp_metadata[\"Q.No\"].str.strip().str.lower()\n"
      ],
      "metadata": {
        "id": "3mPHaynregx7"
      },
      "execution_count": 2,
      "outputs": []
    },
    {
      "cell_type": "code",
      "source": [
        "from google.colab import drive\n",
        "drive.mount('/content/drive')\n"
      ],
      "metadata": {
        "colab": {
          "base_uri": "https://localhost:8080/"
        },
        "id": "7b4qcO7Sertp",
        "outputId": "f4dd897d-7f6c-4395-8fcb-792607e0255f"
      },
      "execution_count": 4,
      "outputs": [
        {
          "output_type": "stream",
          "name": "stdout",
          "text": [
            "Mounted at /content/drive\n"
          ]
        }
      ]
    },
    {
      "cell_type": "code",
      "source": [
        "folder_path = \"/content/drive/MyDrive/ALL_division\"\n",
        "\n",
        "all_marks = []\n",
        "\n",
        "for file in os.listdir(folder_path):\n",
        "    if file.endswith(\".csv\"):\n",
        "        div = file.split(\"_\")[0].upper()\n",
        "        path = os.path.join(folder_path, file)\n",
        "        df = pd.read_csv(path)\n",
        "        df[\"Division\"] = div\n",
        "        all_marks.append(df)\n",
        "\n",
        "# Combine into one DataFrame\n",
        "combined_df = pd.concat(all_marks, ignore_index=True)\n"
      ],
      "metadata": {
        "id": "xxrP3ZUPejLu"
      },
      "execution_count": 5,
      "outputs": []
    },
    {
      "cell_type": "code",
      "source": [
        "non_question_cols = [\"SL.No\", \"Roll.No\", \"USN\", \"Name\", \"Division\"]\n",
        "question_cols = [col for col in combined_df.columns if col not in non_question_cols]\n",
        "\n",
        "marks_df = combined_df[question_cols].replace(\"-\", pd.NA).apply(pd.to_numeric, errors='coerce')\n",
        "marks_df.columns = marks_df.columns.str.strip().str.lower()\n"
      ],
      "metadata": {
        "id": "gCq6bn5Oe6bl"
      },
      "execution_count": 7,
      "outputs": []
    },
    {
      "cell_type": "code",
      "source": [
        "valid_questions = list(set(qp_metadata[\"Q.No\"]) & set(marks_df.columns))\n",
        "marks_df_filtered = marks_df[valid_questions]\n",
        "\n",
        "summary = pd.DataFrame(index=marks_df_filtered.columns)\n",
        "summary[\"Avg Marks\"] = marks_df_filtered.mean()\n",
        "summary[\"Max Marks\"] = summary.index.map(qp_metadata.set_index(\"Q.No\")[\"Max Marks\"].astype(int))\n",
        "summary[\"Bloom Level\"] = summary.index.map(qp_metadata.set_index(\"Q.No\")[\"Bloom Level\"])\n"
      ],
      "metadata": {
        "id": "YD0haXvle7DY"
      },
      "execution_count": 8,
      "outputs": []
    },
    {
      "cell_type": "code",
      "source": [
        "bloom_grouped_df = summary.groupby(\"Bloom Level\").agg(\n",
        "    bloom_total_marks=('Avg Marks', 'sum'),\n",
        "    bloom_avg_per_question=('Avg Marks', 'mean'),\n",
        "    bloom_question_count=('Avg Marks', 'count')\n",
        ").round(2)\n",
        "\n",
        "display(Markdown(\"### ✅ Bloom’s Level Summary (All Divisions Combined)\"))\n",
        "display(bloom_grouped_df)\n"
      ],
      "metadata": {
        "colab": {
          "base_uri": "https://localhost:8080/",
          "height": 184
        },
        "id": "tFrwplmFe-f5",
        "outputId": "c7247f88-0e4e-4209-ce9b-37cdf4d1ecdb"
      },
      "execution_count": 13,
      "outputs": [
        {
          "output_type": "display_data",
          "data": {
            "text/plain": [
              "<IPython.core.display.Markdown object>"
            ],
            "text/markdown": "### ✅ Bloom’s Level Summary (All Divisions Combined)"
          },
          "metadata": {}
        },
        {
          "output_type": "display_data",
          "data": {
            "text/plain": [
              "             bloom_total_marks  bloom_avg_per_question  bloom_question_count\n",
              "Bloom Level                                                                 \n",
              "L2                        8.68                    2.89                     3\n",
              "L3                       18.40                    3.07                     6"
            ],
            "text/html": [
              "\n",
              "  <div id=\"df-02d7abbc-e36e-4b98-9e5c-10135fd496af\" class=\"colab-df-container\">\n",
              "    <div>\n",
              "<style scoped>\n",
              "    .dataframe tbody tr th:only-of-type {\n",
              "        vertical-align: middle;\n",
              "    }\n",
              "\n",
              "    .dataframe tbody tr th {\n",
              "        vertical-align: top;\n",
              "    }\n",
              "\n",
              "    .dataframe thead th {\n",
              "        text-align: right;\n",
              "    }\n",
              "</style>\n",
              "<table border=\"1\" class=\"dataframe\">\n",
              "  <thead>\n",
              "    <tr style=\"text-align: right;\">\n",
              "      <th></th>\n",
              "      <th>bloom_total_marks</th>\n",
              "      <th>bloom_avg_per_question</th>\n",
              "      <th>bloom_question_count</th>\n",
              "    </tr>\n",
              "    <tr>\n",
              "      <th>Bloom Level</th>\n",
              "      <th></th>\n",
              "      <th></th>\n",
              "      <th></th>\n",
              "    </tr>\n",
              "  </thead>\n",
              "  <tbody>\n",
              "    <tr>\n",
              "      <th>L2</th>\n",
              "      <td>8.68</td>\n",
              "      <td>2.89</td>\n",
              "      <td>3</td>\n",
              "    </tr>\n",
              "    <tr>\n",
              "      <th>L3</th>\n",
              "      <td>18.40</td>\n",
              "      <td>3.07</td>\n",
              "      <td>6</td>\n",
              "    </tr>\n",
              "  </tbody>\n",
              "</table>\n",
              "</div>\n",
              "    <div class=\"colab-df-buttons\">\n",
              "\n",
              "  <div class=\"colab-df-container\">\n",
              "    <button class=\"colab-df-convert\" onclick=\"convertToInteractive('df-02d7abbc-e36e-4b98-9e5c-10135fd496af')\"\n",
              "            title=\"Convert this dataframe to an interactive table.\"\n",
              "            style=\"display:none;\">\n",
              "\n",
              "  <svg xmlns=\"http://www.w3.org/2000/svg\" height=\"24px\" viewBox=\"0 -960 960 960\">\n",
              "    <path d=\"M120-120v-720h720v720H120Zm60-500h600v-160H180v160Zm220 220h160v-160H400v160Zm0 220h160v-160H400v160ZM180-400h160v-160H180v160Zm440 0h160v-160H620v160ZM180-180h160v-160H180v160Zm440 0h160v-160H620v160Z\"/>\n",
              "  </svg>\n",
              "    </button>\n",
              "\n",
              "  <style>\n",
              "    .colab-df-container {\n",
              "      display:flex;\n",
              "      gap: 12px;\n",
              "    }\n",
              "\n",
              "    .colab-df-convert {\n",
              "      background-color: #E8F0FE;\n",
              "      border: none;\n",
              "      border-radius: 50%;\n",
              "      cursor: pointer;\n",
              "      display: none;\n",
              "      fill: #1967D2;\n",
              "      height: 32px;\n",
              "      padding: 0 0 0 0;\n",
              "      width: 32px;\n",
              "    }\n",
              "\n",
              "    .colab-df-convert:hover {\n",
              "      background-color: #E2EBFA;\n",
              "      box-shadow: 0px 1px 2px rgba(60, 64, 67, 0.3), 0px 1px 3px 1px rgba(60, 64, 67, 0.15);\n",
              "      fill: #174EA6;\n",
              "    }\n",
              "\n",
              "    .colab-df-buttons div {\n",
              "      margin-bottom: 4px;\n",
              "    }\n",
              "\n",
              "    [theme=dark] .colab-df-convert {\n",
              "      background-color: #3B4455;\n",
              "      fill: #D2E3FC;\n",
              "    }\n",
              "\n",
              "    [theme=dark] .colab-df-convert:hover {\n",
              "      background-color: #434B5C;\n",
              "      box-shadow: 0px 1px 3px 1px rgba(0, 0, 0, 0.15);\n",
              "      filter: drop-shadow(0px 1px 2px rgba(0, 0, 0, 0.3));\n",
              "      fill: #FFFFFF;\n",
              "    }\n",
              "  </style>\n",
              "\n",
              "    <script>\n",
              "      const buttonEl =\n",
              "        document.querySelector('#df-02d7abbc-e36e-4b98-9e5c-10135fd496af button.colab-df-convert');\n",
              "      buttonEl.style.display =\n",
              "        google.colab.kernel.accessAllowed ? 'block' : 'none';\n",
              "\n",
              "      async function convertToInteractive(key) {\n",
              "        const element = document.querySelector('#df-02d7abbc-e36e-4b98-9e5c-10135fd496af');\n",
              "        const dataTable =\n",
              "          await google.colab.kernel.invokeFunction('convertToInteractive',\n",
              "                                                    [key], {});\n",
              "        if (!dataTable) return;\n",
              "\n",
              "        const docLinkHtml = 'Like what you see? Visit the ' +\n",
              "          '<a target=\"_blank\" href=https://colab.research.google.com/notebooks/data_table.ipynb>data table notebook</a>'\n",
              "          + ' to learn more about interactive tables.';\n",
              "        element.innerHTML = '';\n",
              "        dataTable['output_type'] = 'display_data';\n",
              "        await google.colab.output.renderOutput(dataTable, element);\n",
              "        const docLink = document.createElement('div');\n",
              "        docLink.innerHTML = docLinkHtml;\n",
              "        element.appendChild(docLink);\n",
              "      }\n",
              "    </script>\n",
              "  </div>\n",
              "\n",
              "\n",
              "    <div id=\"df-91917bc9-496c-4107-866c-b8b6233e93f6\">\n",
              "      <button class=\"colab-df-quickchart\" onclick=\"quickchart('df-91917bc9-496c-4107-866c-b8b6233e93f6')\"\n",
              "                title=\"Suggest charts\"\n",
              "                style=\"display:none;\">\n",
              "\n",
              "<svg xmlns=\"http://www.w3.org/2000/svg\" height=\"24px\"viewBox=\"0 0 24 24\"\n",
              "     width=\"24px\">\n",
              "    <g>\n",
              "        <path d=\"M19 3H5c-1.1 0-2 .9-2 2v14c0 1.1.9 2 2 2h14c1.1 0 2-.9 2-2V5c0-1.1-.9-2-2-2zM9 17H7v-7h2v7zm4 0h-2V7h2v10zm4 0h-2v-4h2v4z\"/>\n",
              "    </g>\n",
              "</svg>\n",
              "      </button>\n",
              "\n",
              "<style>\n",
              "  .colab-df-quickchart {\n",
              "      --bg-color: #E8F0FE;\n",
              "      --fill-color: #1967D2;\n",
              "      --hover-bg-color: #E2EBFA;\n",
              "      --hover-fill-color: #174EA6;\n",
              "      --disabled-fill-color: #AAA;\n",
              "      --disabled-bg-color: #DDD;\n",
              "  }\n",
              "\n",
              "  [theme=dark] .colab-df-quickchart {\n",
              "      --bg-color: #3B4455;\n",
              "      --fill-color: #D2E3FC;\n",
              "      --hover-bg-color: #434B5C;\n",
              "      --hover-fill-color: #FFFFFF;\n",
              "      --disabled-bg-color: #3B4455;\n",
              "      --disabled-fill-color: #666;\n",
              "  }\n",
              "\n",
              "  .colab-df-quickchart {\n",
              "    background-color: var(--bg-color);\n",
              "    border: none;\n",
              "    border-radius: 50%;\n",
              "    cursor: pointer;\n",
              "    display: none;\n",
              "    fill: var(--fill-color);\n",
              "    height: 32px;\n",
              "    padding: 0;\n",
              "    width: 32px;\n",
              "  }\n",
              "\n",
              "  .colab-df-quickchart:hover {\n",
              "    background-color: var(--hover-bg-color);\n",
              "    box-shadow: 0 1px 2px rgba(60, 64, 67, 0.3), 0 1px 3px 1px rgba(60, 64, 67, 0.15);\n",
              "    fill: var(--button-hover-fill-color);\n",
              "  }\n",
              "\n",
              "  .colab-df-quickchart-complete:disabled,\n",
              "  .colab-df-quickchart-complete:disabled:hover {\n",
              "    background-color: var(--disabled-bg-color);\n",
              "    fill: var(--disabled-fill-color);\n",
              "    box-shadow: none;\n",
              "  }\n",
              "\n",
              "  .colab-df-spinner {\n",
              "    border: 2px solid var(--fill-color);\n",
              "    border-color: transparent;\n",
              "    border-bottom-color: var(--fill-color);\n",
              "    animation:\n",
              "      spin 1s steps(1) infinite;\n",
              "  }\n",
              "\n",
              "  @keyframes spin {\n",
              "    0% {\n",
              "      border-color: transparent;\n",
              "      border-bottom-color: var(--fill-color);\n",
              "      border-left-color: var(--fill-color);\n",
              "    }\n",
              "    20% {\n",
              "      border-color: transparent;\n",
              "      border-left-color: var(--fill-color);\n",
              "      border-top-color: var(--fill-color);\n",
              "    }\n",
              "    30% {\n",
              "      border-color: transparent;\n",
              "      border-left-color: var(--fill-color);\n",
              "      border-top-color: var(--fill-color);\n",
              "      border-right-color: var(--fill-color);\n",
              "    }\n",
              "    40% {\n",
              "      border-color: transparent;\n",
              "      border-right-color: var(--fill-color);\n",
              "      border-top-color: var(--fill-color);\n",
              "    }\n",
              "    60% {\n",
              "      border-color: transparent;\n",
              "      border-right-color: var(--fill-color);\n",
              "    }\n",
              "    80% {\n",
              "      border-color: transparent;\n",
              "      border-right-color: var(--fill-color);\n",
              "      border-bottom-color: var(--fill-color);\n",
              "    }\n",
              "    90% {\n",
              "      border-color: transparent;\n",
              "      border-bottom-color: var(--fill-color);\n",
              "    }\n",
              "  }\n",
              "</style>\n",
              "\n",
              "      <script>\n",
              "        async function quickchart(key) {\n",
              "          const quickchartButtonEl =\n",
              "            document.querySelector('#' + key + ' button');\n",
              "          quickchartButtonEl.disabled = true;  // To prevent multiple clicks.\n",
              "          quickchartButtonEl.classList.add('colab-df-spinner');\n",
              "          try {\n",
              "            const charts = await google.colab.kernel.invokeFunction(\n",
              "                'suggestCharts', [key], {});\n",
              "          } catch (error) {\n",
              "            console.error('Error during call to suggestCharts:', error);\n",
              "          }\n",
              "          quickchartButtonEl.classList.remove('colab-df-spinner');\n",
              "          quickchartButtonEl.classList.add('colab-df-quickchart-complete');\n",
              "        }\n",
              "        (() => {\n",
              "          let quickchartButtonEl =\n",
              "            document.querySelector('#df-91917bc9-496c-4107-866c-b8b6233e93f6 button');\n",
              "          quickchartButtonEl.style.display =\n",
              "            google.colab.kernel.accessAllowed ? 'block' : 'none';\n",
              "        })();\n",
              "      </script>\n",
              "    </div>\n",
              "\n",
              "  <div id=\"id_6ff2f193-4c33-461a-b49e-31e2d4db8e36\">\n",
              "    <style>\n",
              "      .colab-df-generate {\n",
              "        background-color: #E8F0FE;\n",
              "        border: none;\n",
              "        border-radius: 50%;\n",
              "        cursor: pointer;\n",
              "        display: none;\n",
              "        fill: #1967D2;\n",
              "        height: 32px;\n",
              "        padding: 0 0 0 0;\n",
              "        width: 32px;\n",
              "      }\n",
              "\n",
              "      .colab-df-generate:hover {\n",
              "        background-color: #E2EBFA;\n",
              "        box-shadow: 0px 1px 2px rgba(60, 64, 67, 0.3), 0px 1px 3px 1px rgba(60, 64, 67, 0.15);\n",
              "        fill: #174EA6;\n",
              "      }\n",
              "\n",
              "      [theme=dark] .colab-df-generate {\n",
              "        background-color: #3B4455;\n",
              "        fill: #D2E3FC;\n",
              "      }\n",
              "\n",
              "      [theme=dark] .colab-df-generate:hover {\n",
              "        background-color: #434B5C;\n",
              "        box-shadow: 0px 1px 3px 1px rgba(0, 0, 0, 0.15);\n",
              "        filter: drop-shadow(0px 1px 2px rgba(0, 0, 0, 0.3));\n",
              "        fill: #FFFFFF;\n",
              "      }\n",
              "    </style>\n",
              "    <button class=\"colab-df-generate\" onclick=\"generateWithVariable('bloom_grouped_df')\"\n",
              "            title=\"Generate code using this dataframe.\"\n",
              "            style=\"display:none;\">\n",
              "\n",
              "  <svg xmlns=\"http://www.w3.org/2000/svg\" height=\"24px\"viewBox=\"0 0 24 24\"\n",
              "       width=\"24px\">\n",
              "    <path d=\"M7,19H8.4L18.45,9,17,7.55,7,17.6ZM5,21V16.75L18.45,3.32a2,2,0,0,1,2.83,0l1.4,1.43a1.91,1.91,0,0,1,.58,1.4,1.91,1.91,0,0,1-.58,1.4L9.25,21ZM18.45,9,17,7.55Zm-12,3A5.31,5.31,0,0,0,4.9,8.1,5.31,5.31,0,0,0,1,6.5,5.31,5.31,0,0,0,4.9,4.9,5.31,5.31,0,0,0,6.5,1,5.31,5.31,0,0,0,8.1,4.9,5.31,5.31,0,0,0,12,6.5,5.46,5.46,0,0,0,6.5,12Z\"/>\n",
              "  </svg>\n",
              "    </button>\n",
              "    <script>\n",
              "      (() => {\n",
              "      const buttonEl =\n",
              "        document.querySelector('#id_6ff2f193-4c33-461a-b49e-31e2d4db8e36 button.colab-df-generate');\n",
              "      buttonEl.style.display =\n",
              "        google.colab.kernel.accessAllowed ? 'block' : 'none';\n",
              "\n",
              "      buttonEl.onclick = () => {\n",
              "        google.colab.notebook.generateWithVariable('bloom_grouped_df');\n",
              "      }\n",
              "      })();\n",
              "    </script>\n",
              "  </div>\n",
              "\n",
              "    </div>\n",
              "  </div>\n"
            ],
            "application/vnd.google.colaboratory.intrinsic+json": {
              "type": "dataframe",
              "variable_name": "bloom_grouped_df",
              "summary": "{\n  \"name\": \"bloom_grouped_df\",\n  \"rows\": 2,\n  \"fields\": [\n    {\n      \"column\": \"Bloom Level\",\n      \"properties\": {\n        \"dtype\": \"string\",\n        \"num_unique_values\": 2,\n        \"samples\": [\n          \"L3\",\n          \"L2\"\n        ],\n        \"semantic_type\": \"\",\n        \"description\": \"\"\n      }\n    },\n    {\n      \"column\": \"bloom_total_marks\",\n      \"properties\": {\n        \"dtype\": \"number\",\n        \"std\": 6.873077913133241,\n        \"min\": 8.68,\n        \"max\": 18.4,\n        \"num_unique_values\": 2,\n        \"samples\": [\n          18.4,\n          8.68\n        ],\n        \"semantic_type\": \"\",\n        \"description\": \"\"\n      }\n    },\n    {\n      \"column\": \"bloom_avg_per_question\",\n      \"properties\": {\n        \"dtype\": \"number\",\n        \"std\": 0.12727922061357835,\n        \"min\": 2.89,\n        \"max\": 3.07,\n        \"num_unique_values\": 2,\n        \"samples\": [\n          3.07,\n          2.89\n        ],\n        \"semantic_type\": \"\",\n        \"description\": \"\"\n      }\n    },\n    {\n      \"column\": \"bloom_question_count\",\n      \"properties\": {\n        \"dtype\": \"number\",\n        \"std\": 2,\n        \"min\": 3,\n        \"max\": 6,\n        \"num_unique_values\": 2,\n        \"samples\": [\n          6,\n          3\n        ],\n        \"semantic_type\": \"\",\n        \"description\": \"\"\n      }\n    }\n  ]\n}"
            }
          },
          "metadata": {}
        }
      ]
    },
    {
      "cell_type": "code",
      "source": [
        "plt.figure(figsize=(6, 6))\n",
        "plt.pie(\n",
        "    bloom_grouped_df['bloom_total_marks'],\n",
        "    labels=bloom_grouped_df.index,\n",
        "    autopct='%1.1f%%',\n",
        "    startangle=90\n",
        ")\n",
        "plt.title(\"Total Marks Distribution by Bloom's Level (All Divisions)\")\n",
        "plt.axis('equal')\n",
        "plt.tight_layout()\n",
        "plt.savefig(\"bloom_all_divisions_pie_chart.png\")\n",
        "plt.show()\n"
      ],
      "metadata": {
        "colab": {
          "base_uri": "https://localhost:8080/",
          "height": 607
        },
        "id": "kvQu1EY_fAdD",
        "outputId": "dfb29365-e167-45fe-e868-38f7b0c20515"
      },
      "execution_count": 14,
      "outputs": [
        {
          "output_type": "display_data",
          "data": {
            "text/plain": [
              "<Figure size 600x600 with 1 Axes>"
            ],
            "image/png": "[encoded data removed]"
          },
          "metadata": {}
        }
      ]
    },
    {
      "cell_type": "code",
      "source": [
        "# Example: bloom_grouped_df from earlier steps\n",
        "level_dist = bloom_grouped_df['bloom_total_marks']\n",
        "level_pct = (level_dist / level_dist.sum() * 100).round(1)\n",
        "\n",
        "# Extract values safely\n",
        "l1 = level_pct.get('L1', 0)\n",
        "l2 = level_pct.get('L2', 0)\n",
        "l3 = level_pct.get('L3', 0)\n",
        "\n",
        "# Dynamic comment generator\n",
        "interpretation = f\"\"\"\n",
        "### 🧠 Bloom’s Level Performance Interpretation\n",
        "\n",
        "- **L1 (Recall):** {l1}%\n",
        "- **L2 (Understanding/Application):** {l2}%\n",
        "- **L3 (Analysis/Evaluation):** {l3}%\n",
        "\n",
        "This distribution shows that:\n",
        "\"\"\"\n",
        "\n",
        "if l3 > max(l1, l2):\n",
        "    interpretation += f\"Students are scoring highest in **L3**, indicating strong performance in analytical and evaluative questions.\"\n",
        "elif l2 > max(l1, l3):\n",
        "    interpretation += f\"Most marks are scored in **L2**, suggesting assessments are focused on understanding and application.\"\n",
        "elif l1 > max(l2, l3):\n",
        "    interpretation += f\"Majority of scores lie in **L1**, pointing to a focus on recall-level questions.\"\n",
        "else:\n",
        "    interpretation += f\"Performance is fairly distributed across cognitive levels.\"\n",
        "\n",
        "# Add conclusion\n",
        "interpretation += \"\\n\\n> These insights can help refine assessment balance and teaching focus.\"\n",
        "\n",
        "from IPython.display import Markdown, display\n",
        "display(Markdown(interpretation))\n"
      ],
      "metadata": {
        "colab": {
          "base_uri": "https://localhost:8080/",
          "height": 180
        },
        "id": "da0ek5e8fE-D",
        "outputId": "b9325ee8-bec6-4f5c-9781-1e6b53d4eca1"
      },
      "execution_count": 15,
      "outputs": [
        {
          "output_type": "display_data",
          "data": {
            "text/plain": [
              "<IPython.core.display.Markdown object>"
            ],
            "text/markdown": "\n### 🧠 Bloom’s Level Performance Interpretation\n\n- **L1 (Recall):** 0%  \n- **L2 (Understanding/Application):** 32.1%  \n- **L3 (Analysis/Evaluation):** 67.9%\n\nThis distribution shows that:\nStudents are scoring highest in **L3**, indicating strong performance in analytical and evaluative questions.\n\n> These insights can help refine assessment balance and teaching focus."
          },
          "metadata": {}
        }
      ]
    },
    {
      "cell_type": "code",
      "source": [
        "import os\n",
        "import pandas as pd\n",
        "import matplotlib.pyplot as plt\n",
        "import numpy as np\n",
        "import re\n",
        "from IPython.display import Markdown, display\n",
        "\n",
        "# === 1. Load question metadata (CN1_M1.txt) ===\n",
        "with open(\"/content/CN1_M1.txt\", \"r\", encoding=\"utf-8\") as f:\n",
        "    qp_text = f.read()\n",
        "\n",
        "pattern = re.compile(\n",
        "    r\"(?P<QNo>[1-9][a-z])\\s*[\\n:]?\"\n",
        "    r\"(?P<Question>.*?)\\s+\"\n",
        "    r\"(?P<Marks>\\d+)\\s+\"\n",
        "    r\"(?P<CO>\\d+)\\s+\"\n",
        "    r\"(?P<BloomLevel>L\\d+)\\s+\"\n",
        "    r\"(?P<PO>\\d+)\\s+\"\n",
        "    r\"(?P<PICode>\\d+\\.\\d+\\.\\d+)\",\n",
        "    re.DOTALL\n",
        ")\n",
        "\n",
        "matches = pattern.findall(qp_text)\n",
        "qp_metadata = pd.DataFrame(matches, columns=[\"Q.No\", \"Question\", \"Max Marks\", \"CO\", \"Bloom Level\", \"PO\", \"PI Code\"])\n",
        "qp_metadata[\"Q.No\"] = qp_metadata[\"Q.No\"].str.strip().str.lower()\n",
        "\n",
        "# === 2. Loop through all division CSVs ===\n",
        "folder_path = \"/content/drive/MyDrive/ALL_division\"\n",
        "\n",
        "for file in sorted(os.listdir(folder_path)):\n",
        "    if file.endswith(\".csv\"):\n",
        "        div_name = file.split(\"_\")[0].upper()\n",
        "        file_path = os.path.join(folder_path, file)\n",
        "\n",
        "        df = pd.read_csv(file_path)\n",
        "        df = df.drop(columns=[\"SL.No\", \"Roll.No\", \"USN\", \"Name\"], errors=\"ignore\")\n",
        "        df = df.replace(\"-\", pd.NA).apply(pd.to_numeric, errors='coerce')\n",
        "        df.columns = df.columns.str.lower()\n",
        "\n",
        "        valid_qs = list(set(qp_metadata[\"Q.No\"]) & set(df.columns))\n",
        "        marks_df_filtered = df[valid_qs]\n",
        "\n",
        "        # Build summary\n",
        "        summary = pd.DataFrame(index=marks_df_filtered.columns)\n",
        "        summary[\"Avg Marks\"] = marks_df_filtered.mean()\n",
        "        summary[\"Max Marks\"] = summary.index.map(qp_metadata.set_index(\"Q.No\")[\"Max Marks\"].astype(int))\n",
        "        summary[\"Bloom Level\"] = summary.index.map(qp_metadata.set_index(\"Q.No\")[\"Bloom Level\"])\n",
        "\n",
        "        # Group by Bloom\n",
        "        bloom_grouped = summary.groupby(\"Bloom Level\").agg(\n",
        "            bloom_total_marks=('Avg Marks', 'sum'),\n",
        "            bloom_avg_per_question=('Avg Marks', 'mean'),\n",
        "            bloom_question_count=('Avg Marks', 'count')\n",
        "        ).round(2)\n",
        "\n",
        "        # Pie chart\n",
        "        plt.figure(figsize=(6, 6))\n",
        "        plt.pie(\n",
        "            bloom_grouped['bloom_total_marks'],\n",
        "            labels=bloom_grouped.index,\n",
        "            autopct='%1.1f%%',\n",
        "            startangle=90\n",
        "        )\n",
        "        plt.title(f\"Bloom’s Level Distribution – Division {div_name}\")\n",
        "        plt.axis('equal')\n",
        "        plt.tight_layout()\n",
        "        chart_filename = f\"bloom_div_{div_name}.png\"\n",
        "        plt.savefig(chart_filename)\n",
        "        plt.show()\n",
        "\n",
        "        # Dynamic interpretation\n",
        "        level_pct = (bloom_grouped['bloom_total_marks'] / bloom_grouped['bloom_total_marks'].sum() * 100).round(1)\n",
        "        l1 = level_pct.get('L1', 0)\n",
        "        l2 = level_pct.get('L2', 0)\n",
        "        l3 = level_pct.get('L3', 0)\n",
        "\n",
        "        interpretation = f\"\"\"\n",
        "### 📘 Bloom’s Level Summary – Division {div_name}\n",
        "\n",
        "- **L1 (Recall):** {l1}%\n",
        "- **L2 (Understanding/Application):** {l2}%\n",
        "- **L3 (Analysis/Evaluation):** {l3}%\n",
        "\n",
        "This analysis shows that:\n",
        "\"\"\"\n",
        "        if l3 > max(l1, l2):\n",
        "            interpretation += \"🟢 Students are scoring highest in **L3**, showing strength in higher-order thinking and evaluation.\"\n",
        "        elif l2 > max(l1, l3):\n",
        "            interpretation += \"🟡 Most marks lie in **L2**, indicating a focus on understanding/application-level questions.\"\n",
        "        elif l1 > max(l2, l3):\n",
        "            interpretation += \"🔵 Scores are mostly from **L1**, which may point to an emphasis on memory-based or basic recall questions.\"\n",
        "        else:\n",
        "            interpretation += \"⚖️ Performance appears balanced across all Bloom levels.\"\n",
        "\n",
        "        interpretation += \"\\n\\n> These insights can help faculty adjust question design and teaching strategy.\"\n",
        "\n",
        "        display(Markdown(interpretation))\n"
      ],
      "metadata": {
        "colab": {
          "base_uri": "https://localhost:8080/",
          "height": 1000
        },
        "id": "hzJkOauwfZ15",
        "outputId": "8cc5df5e-52da-4dd0-af7f-0085f9d0c1d2"
      },
      "execution_count": 17,
      "outputs": [
        {
          "output_type": "display_data",
          "data": {
            "text/plain": [
              "<Figure size 600x600 with 1 Axes>"
            ],
            "image/png": "[encoded data removed]"
          },
          "metadata": {}
        },
        {
          "output_type": "display_data",
          "data": {
            "text/plain": [
              "<IPython.core.display.Markdown object>"
            ],
            "text/markdown": "\n### 📘 Bloom’s Level Summary – Division A\n\n- **L1 (Recall):** 0%\n- **L2 (Understanding/Application):** 37.1%\n- **L3 (Analysis/Evaluation):** 62.9%\n\nThis analysis shows that:  \n🟢 Students are scoring highest in **L3**, showing strength in higher-order thinking and evaluation.\n\n> These insights can help faculty adjust question design and teaching strategy."
          },
          "metadata": {}
        },
        {
          "output_type": "display_data",
          "data": {
            "text/plain": [
              "<Figure size 600x600 with 1 Axes>"
            ],
            "image/png": "[encoded data removed]"
          },
          "metadata": {}
        },
        {
          "output_type": "display_data",
          "data": {
            "text/plain": [
              "<IPython.core.display.Markdown object>"
            ],
            "text/markdown": "\n### 📘 Bloom’s Level Summary – Division B\n\n- **L1 (Recall):** 0%\n- **L2 (Understanding/Application):** 29.1%\n- **L3 (Analysis/Evaluation):** 70.9%\n\nThis analysis shows that:  \n🟢 Students are scoring highest in **L3**, showing strength in higher-order thinking and evaluation.\n\n> These insights can help faculty adjust question design and teaching strategy."
          },
          "metadata": {}
        },
        {
          "output_type": "display_data",
          "data": {
            "text/plain": [
              "<Figure size 600x600 with 1 Axes>"
            ],
            "image/png": "[encoded data removed]"
          },
          "metadata": {}
        },
        {
          "output_type": "display_data",
          "data": {
            "text/plain": [
              "<IPython.core.display.Markdown object>"
            ],
            "text/markdown": "\n### 📘 Bloom’s Level Summary – Division C\n\n- **L1 (Recall):** 0%\n- **L2 (Understanding/Application):** 30.1%\n- **L3 (Analysis/Evaluation):** 69.9%\n\nThis analysis shows that:  \n🟢 Students are scoring highest in **L3**, showing strength in higher-order thinking and evaluation.\n\n> These insights can help faculty adjust question design and teaching strategy."
          },
          "metadata": {}
        },
        {
          "output_type": "display_data",
          "data": {
            "text/plain": [
              "<Figure size 600x600 with 1 Axes>"
            ],
            "image/png": "[encoded data removed]"
          },
          "metadata": {}
        },
        {
          "output_type": "display_data",
          "data": {
            "text/plain": [
              "<IPython.core.display.Markdown object>"
            ],
            "text/markdown": "\n### 📘 Bloom’s Level Summary – Division D\n\n- **L1 (Recall):** 0%\n- **L2 (Understanding/Application):** 29.8%\n- **L3 (Analysis/Evaluation):** 70.2%\n\nThis analysis shows that:  \n🟢 Students are scoring highest in **L3**, showing strength in higher-order thinking and evaluation.\n\n> These insights can help faculty adjust question design and teaching strategy."
          },
          "metadata": {}
        },
        {
          "output_type": "display_data",
          "data": {
            "text/plain": [
              "<Figure size 600x600 with 1 Axes>"
            ],
            "image/png": "[encoded data removed]"
          },
          "metadata": {}
        },
        {
          "output_type": "display_data",
          "data": {
            "text/plain": [
              "<IPython.core.display.Markdown object>"
            ],
            "text/markdown": "\n### 📘 Bloom’s Level Summary – Division E\n\n- **L1 (Recall):** 0%\n- **L2 (Understanding/Application):** 32.5%\n- **L3 (Analysis/Evaluation):** 67.5%\n\nThis analysis shows that:  \n🟢 Students are scoring highest in **L3**, showing strength in higher-order thinking and evaluation.\n\n> These insights can help faculty adjust question design and teaching strategy."
          },
          "metadata": {}
        }
      ]
    },
    {
      "cell_type": "code",
      "source": [],
      "metadata": {
        "id": "_5WJYjOEgbLN"
      },
      "execution_count": null,
      "outputs": []
    },
    {
      "cell_type": "code",
      "source": [],
      "metadata": {
        "id": "5RZo91nlgpfU"
      },
      "execution_count": null,
      "outputs": []
    },
    {
      "cell_type": "code",
      "source": [],
      "metadata": {
        "id": "KFUVZegPgpUw"
      },
      "execution_count": null,
      "outputs": []
    },
    {
      "cell_type": "code",
      "source": [],
      "metadata": {
        "id": "-dUb915tl1KH"
      },
      "execution_count": null,
      "outputs": []
    },
    {
      "cell_type": "code",
      "source": [
        "plt.figure(figsize=(12, 6))\n",
        "sns.boxplot(data=score_df, palette=\"Set3\")\n",
        "plt.title(\"Total Score Distribution by Division (A–E)\", fontsize=14)\n",
        "plt.ylabel(\"Total Score\")\n",
        "plt.xlabel(\"Division\")\n",
        "plt.grid(True)\n",
        "\n",
        "# Set y-axis ticks with fixed gap (e.g., every 5 marks)\n",
        "min_score = int(score_df.min().min())\n",
        "max_score = int(score_df.max().max())\n",
        "plt.yticks(range(min_score - 5, max_score + 10, 5))  # e.g., from 5 to 50, step = 5\n",
        "\n",
        "plt.tight_layout()\n",
        "plt.savefig(\"groupwise_score_boxplot.png\")\n",
        "plt.show()\n"
      ],
      "metadata": {
        "colab": {
          "base_uri": "https://localhost:8080/",
          "height": 569
        },
        "id": "WO4lid4egpKV",
        "outputId": "ad0a6310-da1d-45c1-d7bf-ea2303860744"
      },
      "execution_count": 21,
      "outputs": [
        {
          "output_type": "display_data",
          "data": {
            "text/plain": [
              "<Figure size 1200x600 with 1 Axes>"
            ],
            "image/png": "[encoded data removed]"
          },
          "metadata": {}
        }
      ]
    },
    {
      "cell_type": "code",
      "source": [
        "from IPython.display import display, Markdown\n",
        "\n",
        "# Calculate key stats\n",
        "division_means = score_df.mean().round(2)\n",
        "highest_div = division_means.idxmax()\n",
        "lowest_div = division_means.idxmin()\n",
        "gap = division_means.max() - division_means.min()\n",
        "\n",
        "# Generate interpretation\n",
        "comment = f\"\"\"\n",
        "### 📘 Group-Wise Total Score Interpretation\n",
        "\n",
        "- **Highest performing division:** {highest_div} (avg: {division_means[highest_div]})\n",
        "- **Lowest performing division:** {lowest_div} (avg: {division_means[lowest_div]})\n",
        "- **Performance gap:** {gap:.2f} marks\n",
        "\n",
        "This distribution shows that:\n",
        "\"\"\"\n",
        "\n",
        "if gap < 5:\n",
        "    comment += f\"🔹 All divisions performed similarly, with only a small variation of {gap:.2f} marks.\"\n",
        "elif gap < 10:\n",
        "    comment += f\"🟡 There is moderate variation between divisions. {lowest_div} may need slight intervention or review.\"\n",
        "else:\n",
        "    comment += f\"🔴 Significant performance gap detected. {lowest_div} may require academic support or targeted review.\"\n",
        "\n",
        "comment += \"\\n\\n> Use this to guide section-specific feedback and moderation if needed.\"\n",
        "\n",
        "# Display\n",
        "display(Markdown(comment))\n"
      ],
      "metadata": {
        "colab": {
          "base_uri": "https://localhost:8080/",
          "height": 180
        },
        "id": "YH2APjP6jjWG",
        "outputId": "2b688fb4-dfaa-4264-fadb-410951415bc0"
      },
      "execution_count": 22,
      "outputs": [
        {
          "output_type": "display_data",
          "data": {
            "text/plain": [
              "<IPython.core.display.Markdown object>"
            ],
            "text/markdown": "\n### 📘 Group-Wise Total Score Interpretation\n\n- **Highest performing division:** A (avg: 23.05)\n- **Lowest performing division:** D (avg: 15.68)\n- **Performance gap:** 7.37 marks\n\nThis distribution shows that:\n🟡 There is moderate variation between divisions. D may need slight intervention or review.\n\n> Use this to guide section-specific feedback and moderation if needed."
          },
          "metadata": {}
        }
      ]
    },
    {
      "cell_type": "code",
      "source": [
        "# Compute average per division\n",
        "division_means = score_df.mean().round(2)\n",
        "\n",
        "# Bar chart\n",
        "plt.figure(figsize=(10, 6))\n",
        "sns.barplot(x=division_means.index, y=division_means.values, palette=\"Set2\")\n",
        "\n",
        "# Annotate each bar with mean\n",
        "for i, val in enumerate(division_means):\n",
        "    plt.text(i, val + 0.5, f\"{val}\", ha='center', fontsize=12, fontweight='bold')\n",
        "\n",
        "plt.title(\"Average Total Score per Division (A–E)\", fontsize=14)\n",
        "plt.ylabel(\"Average Score\")\n",
        "plt.xlabel(\"Division\")\n",
        "plt.grid(True)\n",
        "plt.tight_layout()\n",
        "plt.savefig(\"groupwise_score_bar_chart.png\")\n",
        "plt.show()\n"
      ],
      "metadata": {
        "colab": {
          "base_uri": "https://localhost:8080/",
          "height": 714
        },
        "id": "RmICmEsDkJ1p",
        "outputId": "9c3ce1fe-8eb5-4ea5-a5ae-b3c6e985684a"
      },
      "execution_count": 24,
      "outputs": [
        {
          "output_type": "stream",
          "name": "stderr",
          "text": [
            "<ipython-input-24-c3095df38f78>:6: FutureWarning: \n",
            "\n",
            "Passing `palette` without assigning `hue` is deprecated and will be removed in v0.14.0. Assign the `x` variable to `hue` and set `legend=False` for the same effect.\n",
            "\n",
            "  sns.barplot(x=division_means.index, y=division_means.values, palette=\"Set2\")\n"
          ]
        },
        {
          "output_type": "display_data",
          "data": {
            "text/plain": [
              "<Figure size 1000x600 with 1 Axes>"
            ],
            "image/png": "[encoded data removed]"
          },
          "metadata": {}
        }
      ]
    },
    {
      "cell_type": "code",
      "source": [
        "summary_table = pd.DataFrame({\n",
        "    \"Division\": division_means.index,\n",
        "    \"Average Score\": division_means.values,\n",
        "    \"Std Deviation\": score_df.std().round(2).values,\n",
        "    \"Max Score\": score_df.max().values,\n",
        "    \"Min Score\": score_df.min().values,\n",
        "    \"Student Count\": score_df.count().values\n",
        "})\n",
        "\n",
        "from IPython.display import display\n",
        "display(summary_table.sort_values(\"Division\"))\n"
      ],
      "metadata": {
        "colab": {
          "base_uri": "https://localhost:8080/",
          "height": 206
        },
        "id": "T2krpBo6kvFM",
        "outputId": "701fc218-fc6c-4340-90c3-88b279bfd467"
      },
      "execution_count": 25,
      "outputs": [
        {
          "output_type": "display_data",
          "data": {
            "text/plain": [
              "  Division  Average Score  Std Deviation  Max Score  Min Score  Student Count\n",
              "0        A          23.05           7.05       34.0        0.0             73\n",
              "1        B          18.82           6.42       34.0        3.0             71\n",
              "2        C          21.96           8.99       36.0        0.0             76\n",
              "3        D          15.68           8.83       31.0        0.0             71\n",
              "4        E          20.31          10.98       44.0        0.0             71"
            ],
            "text/html": [
              "\n",
              "  <div id=\"df-c742e1a7-14c2-440b-bc86-e28357f3f3f1\" class=\"colab-df-container\">\n",
              "    <div>\n",
              "<style scoped>\n",
              "    .dataframe tbody tr th:only-of-type {\n",
              "        vertical-align: middle;\n",
              "    }\n",
              "\n",
              "    .dataframe tbody tr th {\n",
              "        vertical-align: top;\n",
              "    }\n",
              "\n",
              "    .dataframe thead th {\n",
              "        text-align: right;\n",
              "    }\n",
              "</style>\n",
              "<table border=\"1\" class=\"dataframe\">\n",
              "  <thead>\n",
              "    <tr style=\"text-align: right;\">\n",
              "      <th></th>\n",
              "      <th>Division</th>\n",
              "      <th>Average Score</th>\n",
              "      <th>Std Deviation</th>\n",
              "      <th>Max Score</th>\n",
              "      <th>Min Score</th>\n",
              "      <th>Student Count</th>\n",
              "    </tr>\n",
              "  </thead>\n",
              "  <tbody>\n",
              "    <tr>\n",
              "      <th>0</th>\n",
              "      <td>A</td>\n",
              "      <td>23.05</td>\n",
              "      <td>7.05</td>\n",
              "      <td>34.0</td>\n",
              "      <td>0.0</td>\n",
              "      <td>73</td>\n",
              "    </tr>\n",
              "    <tr>\n",
              "      <th>1</th>\n",
              "      <td>B</td>\n",
              "      <td>18.82</td>\n",
              "      <td>6.42</td>\n",
              "      <td>34.0</td>\n",
              "      <td>3.0</td>\n",
              "      <td>71</td>\n",
              "    </tr>\n",
              "    <tr>\n",
              "      <th>2</th>\n",
              "      <td>C</td>\n",
              "      <td>21.96</td>\n",
              "      <td>8.99</td>\n",
              "      <td>36.0</td>\n",
              "      <td>0.0</td>\n",
              "      <td>76</td>\n",
              "    </tr>\n",
              "    <tr>\n",
              "      <th>3</th>\n",
              "      <td>D</td>\n",
              "      <td>15.68</td>\n",
              "      <td>8.83</td>\n",
              "      <td>31.0</td>\n",
              "      <td>0.0</td>\n",
              "      <td>71</td>\n",
              "    </tr>\n",
              "    <tr>\n",
              "      <th>4</th>\n",
              "      <td>E</td>\n",
              "      <td>20.31</td>\n",
              "      <td>10.98</td>\n",
              "      <td>44.0</td>\n",
              "      <td>0.0</td>\n",
              "      <td>71</td>\n",
              "    </tr>\n",
              "  </tbody>\n",
              "</table>\n",
              "</div>\n",
              "    <div class=\"colab-df-buttons\">\n",
              "\n",
              "  <div class=\"colab-df-container\">\n",
              "    <button class=\"colab-df-convert\" onclick=\"convertToInteractive('df-c742e1a7-14c2-440b-bc86-e28357f3f3f1')\"\n",
              "            title=\"Convert this dataframe to an interactive table.\"\n",
              "            style=\"display:none;\">\n",
              "\n",
              "  <svg xmlns=\"http://www.w3.org/2000/svg\" height=\"24px\" viewBox=\"0 -960 960 960\">\n",
              "    <path d=\"M120-120v-720h720v720H120Zm60-500h600v-160H180v160Zm220 220h160v-160H400v160Zm0 220h160v-160H400v160ZM180-400h160v-160H180v160Zm440 0h160v-160H620v160ZM180-180h160v-160H180v160Zm440 0h160v-160H620v160Z\"/>\n",
              "  </svg>\n",
              "    </button>\n",
              "\n",
              "  <style>\n",
              "    .colab-df-container {\n",
              "      display:flex;\n",
              "      gap: 12px;\n",
              "    }\n",
              "\n",
              "    .colab-df-convert {\n",
              "      background-color: #E8F0FE;\n",
              "      border: none;\n",
              "      border-radius: 50%;\n",
              "      cursor: pointer;\n",
              "      display: none;\n",
              "      fill: #1967D2;\n",
              "      height: 32px;\n",
              "      padding: 0 0 0 0;\n",
              "      width: 32px;\n",
              "    }\n",
              "\n",
              "    .colab-df-convert:hover {\n",
              "      background-color: #E2EBFA;\n",
              "      box-shadow: 0px 1px 2px rgba(60, 64, 67, 0.3), 0px 1px 3px 1px rgba(60, 64, 67, 0.15);\n",
              "      fill: #174EA6;\n",
              "    }\n",
              "\n",
              "    .colab-df-buttons div {\n",
              "      margin-bottom: 4px;\n",
              "    }\n",
              "\n",
              "    [theme=dark] .colab-df-convert {\n",
              "      background-color: #3B4455;\n",
              "      fill: #D2E3FC;\n",
              "    }\n",
              "\n",
              "    [theme=dark] .colab-df-convert:hover {\n",
              "      background-color: #434B5C;\n",
              "      box-shadow: 0px 1px 3px 1px rgba(0, 0, 0, 0.15);\n",
              "      filter: drop-shadow(0px 1px 2px rgba(0, 0, 0, 0.3));\n",
              "      fill: #FFFFFF;\n",
              "    }\n",
              "  </style>\n",
              "\n",
              "    <script>\n",
              "      const buttonEl =\n",
              "        document.querySelector('#df-c742e1a7-14c2-440b-bc86-e28357f3f3f1 button.colab-df-convert');\n",
              "      buttonEl.style.display =\n",
              "        google.colab.kernel.accessAllowed ? 'block' : 'none';\n",
              "\n",
              "      async function convertToInteractive(key) {\n",
              "        const element = document.querySelector('#df-c742e1a7-14c2-440b-bc86-e28357f3f3f1');\n",
              "        const dataTable =\n",
              "          await google.colab.kernel.invokeFunction('convertToInteractive',\n",
              "                                                    [key], {});\n",
              "        if (!dataTable) return;\n",
              "\n",
              "        const docLinkHtml = 'Like what you see? Visit the ' +\n",
              "          '<a target=\"_blank\" href=https://colab.research.google.com/notebooks/data_table.ipynb>data table notebook</a>'\n",
              "          + ' to learn more about interactive tables.';\n",
              "        element.innerHTML = '';\n",
              "        dataTable['output_type'] = 'display_data';\n",
              "        await google.colab.output.renderOutput(dataTable, element);\n",
              "        const docLink = document.createElement('div');\n",
              "        docLink.innerHTML = docLinkHtml;\n",
              "        element.appendChild(docLink);\n",
              "      }\n",
              "    </script>\n",
              "  </div>\n",
              "\n",
              "\n",
              "    <div id=\"df-18defd07-10da-4952-8536-b35ae2d4da12\">\n",
              "      <button class=\"colab-df-quickchart\" onclick=\"quickchart('df-18defd07-10da-4952-8536-b35ae2d4da12')\"\n",
              "                title=\"Suggest charts\"\n",
              "                style=\"display:none;\">\n",
              "\n",
              "<svg xmlns=\"http://www.w3.org/2000/svg\" height=\"24px\"viewBox=\"0 0 24 24\"\n",
              "     width=\"24px\">\n",
              "    <g>\n",
              "        <path d=\"M19 3H5c-1.1 0-2 .9-2 2v14c0 1.1.9 2 2 2h14c1.1 0 2-.9 2-2V5c0-1.1-.9-2-2-2zM9 17H7v-7h2v7zm4 0h-2V7h2v10zm4 0h-2v-4h2v4z\"/>\n",
              "    </g>\n",
              "</svg>\n",
              "      </button>\n",
              "\n",
              "<style>\n",
              "  .colab-df-quickchart {\n",
              "      --bg-color: #E8F0FE;\n",
              "      --fill-color: #1967D2;\n",
              "      --hover-bg-color: #E2EBFA;\n",
              "      --hover-fill-color: #174EA6;\n",
              "      --disabled-fill-color: #AAA;\n",
              "      --disabled-bg-color: #DDD;\n",
              "  }\n",
              "\n",
              "  [theme=dark] .colab-df-quickchart {\n",
              "      --bg-color: #3B4455;\n",
              "      --fill-color: #D2E3FC;\n",
              "      --hover-bg-color: #434B5C;\n",
              "      --hover-fill-color: #FFFFFF;\n",
              "      --disabled-bg-color: #3B4455;\n",
              "      --disabled-fill-color: #666;\n",
              "  }\n",
              "\n",
              "  .colab-df-quickchart {\n",
              "    background-color: var(--bg-color);\n",
              "    border: none;\n",
              "    border-radius: 50%;\n",
              "    cursor: pointer;\n",
              "    display: none;\n",
              "    fill: var(--fill-color);\n",
              "    height: 32px;\n",
              "    padding: 0;\n",
              "    width: 32px;\n",
              "  }\n",
              "\n",
              "  .colab-df-quickchart:hover {\n",
              "    background-color: var(--hover-bg-color);\n",
              "    box-shadow: 0 1px 2px rgba(60, 64, 67, 0.3), 0 1px 3px 1px rgba(60, 64, 67, 0.15);\n",
              "    fill: var(--button-hover-fill-color);\n",
              "  }\n",
              "\n",
              "  .colab-df-quickchart-complete:disabled,\n",
              "  .colab-df-quickchart-complete:disabled:hover {\n",
              "    background-color: var(--disabled-bg-color);\n",
              "    fill: var(--disabled-fill-color);\n",
              "    box-shadow: none;\n",
              "  }\n",
              "\n",
              "  .colab-df-spinner {\n",
              "    border: 2px solid var(--fill-color);\n",
              "    border-color: transparent;\n",
              "    border-bottom-color: var(--fill-color);\n",
              "    animation:\n",
              "      spin 1s steps(1) infinite;\n",
              "  }\n",
              "\n",
              "  @keyframes spin {\n",
              "    0% {\n",
              "      border-color: transparent;\n",
              "      border-bottom-color: var(--fill-color);\n",
              "      border-left-color: var(--fill-color);\n",
              "    }\n",
              "    20% {\n",
              "      border-color: transparent;\n",
              "      border-left-color: var(--fill-color);\n",
              "      border-top-color: var(--fill-color);\n",
              "    }\n",
              "    30% {\n",
              "      border-color: transparent;\n",
              "      border-left-color: var(--fill-color);\n",
              "      border-top-color: var(--fill-color);\n",
              "      border-right-color: var(--fill-color);\n",
              "    }\n",
              "    40% {\n",
              "      border-color: transparent;\n",
              "      border-right-color: var(--fill-color);\n",
              "      border-top-color: var(--fill-color);\n",
              "    }\n",
              "    60% {\n",
              "      border-color: transparent;\n",
              "      border-right-color: var(--fill-color);\n",
              "    }\n",
              "    80% {\n",
              "      border-color: transparent;\n",
              "      border-right-color: var(--fill-color);\n",
              "      border-bottom-color: var(--fill-color);\n",
              "    }\n",
              "    90% {\n",
              "      border-color: transparent;\n",
              "      border-bottom-color: var(--fill-color);\n",
              "    }\n",
              "  }\n",
              "</style>\n",
              "\n",
              "      <script>\n",
              "        async function quickchart(key) {\n",
              "          const quickchartButtonEl =\n",
              "            document.querySelector('#' + key + ' button');\n",
              "          quickchartButtonEl.disabled = true;  // To prevent multiple clicks.\n",
              "          quickchartButtonEl.classList.add('colab-df-spinner');\n",
              "          try {\n",
              "            const charts = await google.colab.kernel.invokeFunction(\n",
              "                'suggestCharts', [key], {});\n",
              "          } catch (error) {\n",
              "            console.error('Error during call to suggestCharts:', error);\n",
              "          }\n",
              "          quickchartButtonEl.classList.remove('colab-df-spinner');\n",
              "          quickchartButtonEl.classList.add('colab-df-quickchart-complete');\n",
              "        }\n",
              "        (() => {\n",
              "          let quickchartButtonEl =\n",
              "            document.querySelector('#df-18defd07-10da-4952-8536-b35ae2d4da12 button');\n",
              "          quickchartButtonEl.style.display =\n",
              "            google.colab.kernel.accessAllowed ? 'block' : 'none';\n",
              "        })();\n",
              "      </script>\n",
              "    </div>\n",
              "\n",
              "    </div>\n",
              "  </div>\n"
            ],
            "application/vnd.google.colaboratory.intrinsic+json": {
              "type": "dataframe",
              "summary": "{\n  \"name\": \"display(summary_table\",\n  \"rows\": 5,\n  \"fields\": [\n    {\n      \"column\": \"Division\",\n      \"properties\": {\n        \"dtype\": \"string\",\n        \"num_unique_values\": 5,\n        \"samples\": [\n          \"B\",\n          \"E\",\n          \"C\"\n        ],\n        \"semantic_type\": \"\",\n        \"description\": \"\"\n      }\n    },\n    {\n      \"column\": \"Average Score\",\n      \"properties\": {\n        \"dtype\": \"number\",\n        \"std\": 2.8848102190612126,\n        \"min\": 15.68,\n        \"max\": 23.05,\n        \"num_unique_values\": 5,\n        \"samples\": [\n          18.82,\n          20.31,\n          21.96\n        ],\n        \"semantic_type\": \"\",\n        \"description\": \"\"\n      }\n    },\n    {\n      \"column\": \"Std Deviation\",\n      \"properties\": {\n        \"dtype\": \"number\",\n        \"std\": 1.7970614903224655,\n        \"min\": 6.42,\n        \"max\": 10.98,\n        \"num_unique_values\": 5,\n        \"samples\": [\n          6.42,\n          10.98,\n          8.99\n        ],\n        \"semantic_type\": \"\",\n        \"description\": \"\"\n      }\n    },\n    {\n      \"column\": \"Max Score\",\n      \"properties\": {\n        \"dtype\": \"number\",\n        \"std\": 4.919349550499538,\n        \"min\": 31.0,\n        \"max\": 44.0,\n        \"num_unique_values\": 4,\n        \"samples\": [\n          36.0,\n          44.0,\n          34.0\n        ],\n        \"semantic_type\": \"\",\n        \"description\": \"\"\n      }\n    },\n    {\n      \"column\": \"Min Score\",\n      \"properties\": {\n        \"dtype\": \"number\",\n        \"std\": 1.3416407864998738,\n        \"min\": 0.0,\n        \"max\": 3.0,\n        \"num_unique_values\": 2,\n        \"samples\": [\n          3.0,\n          0.0\n        ],\n        \"semantic_type\": \"\",\n        \"description\": \"\"\n      }\n    },\n    {\n      \"column\": \"Student Count\",\n      \"properties\": {\n        \"dtype\": \"number\",\n        \"std\": 2,\n        \"min\": 71,\n        \"max\": 76,\n        \"num_unique_values\": 3,\n        \"samples\": [\n          73,\n          71\n        ],\n        \"semantic_type\": \"\",\n        \"description\": \"\"\n      }\n    }\n  ]\n}"
            }
          },
          "metadata": {}
        }
      ]
    },
    {
      "cell_type": "code",
      "source": [],
      "metadata": {
        "id": "OcCzl13qlm0n"
      },
      "execution_count": null,
      "outputs": []
    },
    {
      "cell_type": "code",
      "source": [],
      "metadata": {
        "id": "7LuImDr8lycT"
      },
      "execution_count": null,
      "outputs": []
    },
    {
      "cell_type": "code",
      "source": [],
      "metadata": {
        "id": "QLkTn1z4lyY0"
      },
      "execution_count": null,
      "outputs": []
    },
    {
      "cell_type": "code",
      "source": [],
      "metadata": {
        "id": "Ii6U6s3NlyWU"
      },
      "execution_count": null,
      "outputs": []
    },
    {
      "cell_type": "code",
      "source": [
        "  import matplotlib.pyplot as plt\n",
        "import seaborn as sns\n",
        "import pandas as pd\n",
        "import numpy as np\n",
        "from IPython.display import display, Markdown\n"
      ],
      "metadata": {
        "id": "EaV3BJovl578"
      },
      "execution_count": 26,
      "outputs": []
    },
    {
      "cell_type": "code",
      "source": [
        "# Combine all scores into a single Series\n",
        "all_scores = pd.concat([series for series in division_scores.values()], ignore_index=True)\n",
        "\n",
        "# Assume max score is 40 (or adjust as needed)\n",
        "max_score = 40\n",
        "percentage_scores = (all_scores / max_score * 100).round(1)\n"
      ],
      "metadata": {
        "id": "FoXLkoymm2M8"
      },
      "execution_count": 27,
      "outputs": []
    },
    {
      "cell_type": "code",
      "source": [
        "bins = [0, 20, 40, 60, 80, 100]\n",
        "labels = [\"0–20%\", \"21–40%\", \"41–60%\", \"61–80%\", \"81–100%\"]\n",
        "performance_band = pd.cut(percentage_scores, bins=bins, labels=labels, right=True, include_lowest=True)\n",
        "band_counts = performance_band.value_counts().sort_index()\n"
      ],
      "metadata": {
        "id": "9DI7glvNm31B"
      },
      "execution_count": 28,
      "outputs": []
    },
    {
      "cell_type": "code",
      "source": [
        "plt.figure(figsize=(10, 6))\n",
        "sns.barplot(x=band_counts.index, y=band_counts.values, palette=\"coolwarm\")\n",
        "\n",
        "plt.title(\"Performance Band Distribution (All Divisions)\", fontsize=14)\n",
        "plt.xlabel(\"Performance Band (%)\")\n",
        "plt.ylabel(\"Number of Students\")\n",
        "plt.grid(True, axis='y')\n",
        "plt.tight_layout()\n",
        "plt.savefig(\"performance_band_distribution.png\")\n",
        "plt.show()\n"
      ],
      "metadata": {
        "colab": {
          "base_uri": "https://localhost:8080/",
          "height": 714
        },
        "id": "w6CB6iKcm5Rt",
        "outputId": "91bd8f5f-cd94-4b65-b183-497a615cab9b"
      },
      "execution_count": 31,
      "outputs": [
        {
          "output_type": "stream",
          "name": "stderr",
          "text": [
            "<ipython-input-31-ca568f10f7b8>:2: FutureWarning: \n",
            "\n",
            "Passing `palette` without assigning `hue` is deprecated and will be removed in v0.14.0. Assign the `x` variable to `hue` and set `legend=False` for the same effect.\n",
            "\n",
            "  sns.barplot(x=band_counts.index, y=band_counts.values, palette=\"coolwarm\")\n"
          ]
        },
        {
          "output_type": "display_data",
          "data": {
            "text/plain": [
              "<Figure size 1000x600 with 1 Axes>"
            ],
            "image/png": "[encoded data removed]"
          },
          "metadata": {}
        }
      ]
    },
    {
      "cell_type": "code",
      "source": [
        "top_band = band_counts.idxmax()\n",
        "top_count = band_counts.max()\n",
        "bottom_band = band_counts.idxmin()\n",
        "bottom_count = band_counts.min()\n",
        "\n",
        "interpretation = f\"\"\"\n",
        "### 📘 Interpretation – Performance Band Distribution\n",
        "\n",
        "- **Most students ({top_count}) scored in the** `{top_band}` **range.**\n",
        "- **Fewest students ({bottom_count}) are in the** `{bottom_band}` **band.**\n",
        "\n",
        "This distribution provides a quick snapshot of student strength across the cohort. If many students are in lower bands (e.g., below 40%), it may indicate the need for remedial action.\n",
        "\n",
        "> Use this to prioritize academic support or content revision.\n",
        "\"\"\"\n",
        "\n",
        "display(Markdown(interpretation))\n"
      ],
      "metadata": {
        "colab": {
          "base_uri": "https://localhost:8080/",
          "height": 180
        },
        "id": "4E9UtIcEm6f3",
        "outputId": "7e4c9fd9-bec1-4ed1-9d81-114591677446"
      },
      "execution_count": 30,
      "outputs": [
        {
          "output_type": "display_data",
          "data": {
            "text/plain": [
              "<IPython.core.display.Markdown object>"
            ],
            "text/markdown": "\n### 📘 Interpretation – Performance Band Distribution\n\n- **Most students (139) scored in the** `41–60%` **range.**\n- **Fewest students (19) are in the** `81–100%` **band.**\n\nThis distribution provides a quick snapshot of student strength across the cohort. If many students are in lower bands (e.g., below 40%), it may indicate the need for remedial action.\n\n> Use this to prioritize academic support or content revision.\n"
          },
          "metadata": {}
        }
      ]
    },
    {
      "cell_type": "code",
      "source": [],
      "metadata": {
        "id": "TKWUBc5jm87P"
      },
      "execution_count": null,
      "outputs": []
    },
    {
      "cell_type": "code",
      "source": [],
      "metadata": {
        "id": "72dfv87YnbLM"
      },
      "execution_count": null,
      "outputs": []
    },
    {
      "cell_type": "code",
      "source": [],
      "metadata": {
        "id": "as9s26LGnbCU"
      },
      "execution_count": null,
      "outputs": []
    },
    {
      "cell_type": "code",
      "source": [],
      "metadata": {
        "id": "VdjcsWkOna47"
      },
      "execution_count": null,
      "outputs": []
    },
    {
      "cell_type": "code",
      "source": [
        "import os\n",
        "import pandas as pd\n",
        "import numpy as np\n",
        "import matplotlib.pyplot as plt\n",
        "import seaborn as sns\n",
        "from IPython.display import display, Markdown\n",
        "\n",
        "# Rebuild marks_df_combined from all divisions\n",
        "all_marks = []\n",
        "\n",
        "for file in sorted(os.listdir(folder_path)):\n",
        "    if file.endswith(\".csv\"):\n",
        "        file_path = os.path.join(folder_path, file)\n",
        "        df = pd.read_csv(file_path)\n",
        "        df = df.drop(columns=[\"SL.No\", \"Roll.No\", \"USN\", \"Name\"], errors=\"ignore\")\n",
        "        df = df.replace(\"-\", pd.NA).apply(pd.to_numeric, errors=\"coerce\")\n",
        "        df.columns = df.columns.str.strip().str.lower()\n",
        "        all_marks.append(df)\n",
        "\n",
        "# Concatenate all divisions\n",
        "marks_df_combined = pd.concat(all_marks, ignore_index=True)\n"
      ],
      "metadata": {
        "id": "_wfxHrYmnasm"
      },
      "execution_count": 32,
      "outputs": []
    },
    {
      "cell_type": "code",
      "source": [
        "# Ensure metadata is clean\n",
        "qp_metadata[\"Q.No\"] = qp_metadata[\"Q.No\"].str.lower().str.strip()\n",
        "\n",
        "# Get only valid questions\n",
        "valid_questions = list(set(marks_df_combined.columns) & set(qp_metadata[\"Q.No\"]))\n",
        "marks_df_filtered = marks_df_combined[valid_questions]\n",
        "\n",
        "# Map max marks\n",
        "max_marks_map = qp_metadata.set_index(\"Q.No\")[\"Max Marks\"].astype(int)\n",
        "avg_scores = marks_df_filtered.mean()\n",
        "max_scores = avg_scores.index.map(max_marks_map)\n",
        "\n",
        "# Calculate Difficulty Index\n",
        "difficulty_index = (avg_scores / max_scores.astype(float)) * 100\n",
        "difficulty_df = pd.DataFrame({\n",
        "    \"Avg Score\": avg_scores.round(2),\n",
        "    \"Max Marks\": max_scores,\n",
        "    \"Difficulty Index (%)\": difficulty_index.round(2)\n",
        "}).sort_values(\"Difficulty Index (%)\")\n"
      ],
      "metadata": {
        "id": "SoMWUds4nby_"
      },
      "execution_count": 33,
      "outputs": []
    },
    {
      "cell_type": "code",
      "source": [
        "plt.figure(figsize=(12, 6))\n",
        "sns.barplot(\n",
        "    x=difficulty_df.index,\n",
        "    y=difficulty_df[\"Difficulty Index (%)\"],\n",
        "    palette=\"coolwarm\"\n",
        ")\n",
        "\n",
        "plt.title(\"Difficulty Index per Question (All Divisions)\", fontsize=14)\n",
        "plt.ylabel(\"Difficulty Index (%)\")\n",
        "plt.xlabel(\"Question\")\n",
        "plt.xticks(rotation=45)\n",
        "plt.grid(True, axis='y')\n",
        "plt.tight_layout()\n",
        "plt.savefig(\"difficulty_index_plot.png\")\n",
        "plt.show()\n"
      ],
      "metadata": {
        "colab": {
          "base_uri": "https://localhost:8080/",
          "height": 676
        },
        "id": "80FQrdIfnf1M",
        "outputId": "1e0fe982-a365-4b03-cf80-0049b1c18ee8"
      },
      "execution_count": 35,
      "outputs": [
        {
          "output_type": "stream",
          "name": "stderr",
          "text": [
            "<ipython-input-35-811fe05062eb>:2: FutureWarning: \n",
            "\n",
            "Passing `palette` without assigning `hue` is deprecated and will be removed in v0.14.0. Assign the `x` variable to `hue` and set `legend=False` for the same effect.\n",
            "\n",
            "  sns.barplot(\n"
          ]
        },
        {
          "output_type": "display_data",
          "data": {
            "text/plain": [
              "<Figure size 1200x600 with 1 Axes>"
            ],
            "image/png": "[encoded data removed]"
          },
          "metadata": {}
        }
      ]
    },
    {
      "cell_type": "code",
      "source": [
        "easiest_q = difficulty_df[\"Difficulty Index (%)\"].idxmax()\n",
        "hardest_q = difficulty_df[\"Difficulty Index (%)\"].idxmin()\n",
        "easy_score = difficulty_df.loc[easiest_q, \"Difficulty Index (%)\"]\n",
        "hard_score = difficulty_df.loc[hardest_q, \"Difficulty Index (%)\"]\n",
        "\n",
        "display(Markdown(f\"\"\"\n",
        "### 📘 Interpretation – Difficulty Index\n",
        "\n",
        "- **Easiest question:** `{easiest_q}` with DI = **{easy_score:.1f}%**\n",
        "- **Hardest question:** `{hardest_q}` with DI = **{hard_score:.1f}%**\n",
        "\n",
        "Questions with lower Difficulty Index scores are more challenging for students. These can be reviewed for complexity, coverage in class, or clarity of phrasing.\n",
        "\n",
        "> Consider reinforcing topics linked to lower DI questions in future classes or assessments.\n",
        "\"\"\"))\n"
      ],
      "metadata": {
        "colab": {
          "base_uri": "https://localhost:8080/",
          "height": 163
        },
        "id": "perU3UbunhIF",
        "outputId": "86178d3b-4cba-4085-cf83-13abf6e3e91f"
      },
      "execution_count": 36,
      "outputs": [
        {
          "output_type": "display_data",
          "data": {
            "text/plain": [
              "<IPython.core.display.Markdown object>"
            ],
            "text/markdown": "\n### 📘 Interpretation – Difficulty Index\n\n- **Easiest question:** `1b` with DI = **56.3%**\n- **Hardest question:** `3c` with DI = **30.2%**\n\nQuestions with lower Difficulty Index scores are more challenging for students. These can be reviewed for complexity, coverage in class, or clarity of phrasing.\n\n> Consider reinforcing topics linked to lower DI questions in future classes or assessments.\n"
          },
          "metadata": {}
        }
      ]
    },
    {
      "cell_type": "code",
      "source": [],
      "metadata": {
        "id": "4WOGf_9Eno4-"
      },
      "execution_count": null,
      "outputs": []
    },
    {
      "cell_type": "code",
      "source": [],
      "metadata": {
        "id": "3haB7wcLozXm"
      },
      "execution_count": null,
      "outputs": []
    },
    {
      "cell_type": "code",
      "source": [],
      "metadata": {
        "id": "W-Szr9koozUF"
      },
      "execution_count": null,
      "outputs": []
    },
    {
      "cell_type": "code",
      "source": [],
      "metadata": {
        "id": "dmQ4P8omozR8"
      },
      "execution_count": null,
      "outputs": []
    },
    {
      "cell_type": "code",
      "source": [
        "!pip install fpdf\n"
      ],
      "metadata": {
        "colab": {
          "base_uri": "https://localhost:8080/"
        },
        "id": "z-QRcqKdozPU",
        "outputId": "926bbad5-3a22-4159-c3e8-a78ffcf553df"
      },
      "execution_count": 37,
      "outputs": [
        {
          "output_type": "stream",
          "name": "stdout",
          "text": [
            "Collecting fpdf\n",
            "  Downloading fpdf-1.7.2.tar.gz (39 kB)\n",
            "  Preparing metadata (setup.py) ... \u001b[?25l\u001b[?25hdone\n",
            "Building wheels for collected packages: fpdf\n",
            "  Building wheel for fpdf (setup.py) ... \u001b[?25l\u001b[?25hdone\n",
            "  Created wheel for fpdf: filename=fpdf-1.7.2-py2.py3-none-any.whl size=40704 sha256=25a8543f68e4dc2bd829637684d747d4cd6633afce0a2423af697d7be158a1d9\n",
            "  Stored in directory: /root/.cache/pip/wheels/65/4f/66/bbda9866da446a72e206d6484cd97381cbc7859a7068541c36\n",
            "Successfully built fpdf\n",
            "Installing collected packages: fpdf\n",
            "Successfully installed fpdf-1.7.2\n"
          ]
        }
      ]
    },
    {
      "cell_type": "code",
      "source": [
        "import os\n",
        "\n",
        "# Output folder in Google Drive\n",
        "output_folder = \"/content/drive/MyDrive/ALL_division/Division_Reports\"\n",
        "os.makedirs(output_folder, exist_ok=True)\n"
      ],
      "metadata": {
        "id": "jVOPmKb3ozNJ"
      },
      "execution_count": 40,
      "outputs": []
    },
    {
      "cell_type": "code",
      "source": [
        "import pandas as pd\n",
        "import re\n",
        "\n",
        "# Adjust the filename if needed\n",
        "metadata_path = \"/content/CN1_M1.txt\"\n",
        "\n",
        "# Read .txt and extract metadata\n",
        "with open(metadata_path, \"r\", encoding=\"utf-8\") as f:\n",
        "    qp_text = f.read()\n",
        "\n",
        "pattern = re.compile(\n",
        "    r\"(?P<QNo>[1-9][a-z])\\s*[\\n:]?\"\n",
        "    r\"(?P<Question>.*?)\\s+\"\n",
        "    r\"(?P<Marks>\\d+)\\s+\"\n",
        "    r\"(?P<CO>\\d+)\\s+\"\n",
        "    r\"(?P<BloomLevel>L\\d+)\\s+\"\n",
        "    r\"(?P<PO>\\d+)\\s+\"\n",
        "    r\"(?P<PICode>\\d+\\.\\d+\\.\\d+)\",\n",
        "    re.DOTALL\n",
        ")\n",
        "\n",
        "matches = pattern.findall(qp_text)\n",
        "qp_metadata = pd.DataFrame(matches, columns=[\"Q.No\", \"Question\", \"Max Marks\", \"CO\", \"Bloom Level\", \"PO\", \"PI Code\"])\n",
        "qp_metadata[\"Q.No\"] = qp_metadata[\"Q.No\"].str.lower().str.strip()\n"
      ],
      "metadata": {
        "id": "Hum_Cyj1o3to"
      },
      "execution_count": 42,
      "outputs": []
    },
    {
      "cell_type": "code",
      "source": [
        "from fpdf import FPDF\n",
        "\n",
        "def generate_division_pdf(div_name, summary_text, chart_paths, output_folder):\n",
        "    pdf = FPDF()\n",
        "    pdf.set_auto_page_break(auto=True, margin=15)\n",
        "    pdf.add_page()\n",
        "    pdf.set_font(\"Arial\", \"B\", 16)\n",
        "    pdf.cell(0, 10, f\"Division {div_name} – Performance Report\", ln=True, align=\"C\")\n",
        "    pdf.ln(10)\n",
        "    pdf.set_font(\"Arial\", \"\", 12)\n",
        "    for line in summary_text.split('\\n'):\n",
        "        pdf.multi_cell(0, 10, line)\n",
        "    pdf.ln(5)\n",
        "    for chart_path in chart_paths:\n",
        "        if os.path.exists(chart_path):\n",
        "            pdf.image(chart_path, w=170)\n",
        "            pdf.ln(10)\n",
        "    filename = os.path.join(output_folder, f\"Division_{div_name}_Report.pdf\")\n",
        "    pdf.output(filename)\n",
        "    return filename\n"
      ],
      "metadata": {
        "id": "cUDVdt_npUzt"
      },
      "execution_count": 43,
      "outputs": []
    },
    {
      "cell_type": "code",
      "source": [
        "# STEP 0: Install FPDF if not already done\n",
        "!pip install fpdf\n",
        "\n",
        "# STEP 1: Imports\n",
        "import os\n",
        "import pandas as pd\n",
        "import numpy as np\n",
        "import matplotlib.pyplot as plt\n",
        "import seaborn as sns\n",
        "from fpdf import FPDF\n",
        "import re\n",
        "from collections import defaultdict\n",
        "\n",
        "# STEP 2: Paths\n",
        "folder_path = \"/content/drive/MyDrive/ALL_division\"\n",
        "output_folder = os.path.join(folder_path, \"Division_Reports\")\n",
        "os.makedirs(output_folder, exist_ok=True)\n",
        "metadata_path = os.path.join(folder_path, \"CN1_M1.txt\")\n",
        "\n",
        "# STEP 3: Load metadata from CN1_M1.txt\n",
        "with open(metadata_path, \"r\", encoding=\"utf-8\") as f:\n",
        "    qp_text = f.read()\n",
        "\n",
        "pattern = re.compile(\n",
        "    r\"(?P<QNo>[1-9][a-z])\\s*[\\n:]?\"\n",
        "    r\"(?P<Question>.*?)\\s+\"\n",
        "    r\"(?P<Marks>\\d+)\\s+\"\n",
        "    r\"(?P<CO>\\d+)\\s+\"\n",
        "    r\"(?P<BloomLevel>L\\d+)\\s+\"\n",
        "    r\"(?P<PO>\\d+)\\s+\"\n",
        "    r\"(?P<PICode>\\d+\\.\\d+\\.\\d+)\",\n",
        "    re.DOTALL\n",
        ")\n",
        "matches = pattern.findall(qp_text)\n",
        "qp_metadata = pd.DataFrame(matches, columns=[\"Q.No\", \"Question\", \"Max Marks\", \"CO\", \"Bloom Level\", \"PO\", \"PI Code\"])\n",
        "qp_metadata[\"Q.No\"] = qp_metadata[\"Q.No\"].str.lower().str.strip()\n",
        "\n",
        "# STEP 4: Bloom level description\n",
        "def bloom_description(bloom_level):\n",
        "    if bloom_level == \"L1\":\n",
        "        return \"basic recall\"\n",
        "    elif bloom_level == \"L2\":\n",
        "        return \"understanding and application\"\n",
        "    elif bloom_level == \"L3\":\n",
        "        return \"higher-order (analysis/evaluation)\"\n",
        "    else:\n",
        "        return \"mixed-level\"\n",
        "\n",
        "# STEP 5: PDF Generator with dynamic interpretations\n",
        "def generate_division_pdf(div_name, summary_text, chart_paths, output_folder,\n",
        "                          bloom_grouped, difficulty, grade_counts):\n",
        "    pdf = FPDF()\n",
        "    pdf.set_auto_page_break(auto=True, margin=15)\n",
        "    pdf.add_page()\n",
        "    pdf.set_font(\"Arial\", \"B\", 16)\n",
        "    pdf.cell(0, 10, f\"Division {div_name} - Performance Report\", ln=True, align=\"C\")\n",
        "    pdf.ln(10)\n",
        "\n",
        "    pdf.set_font(\"Arial\", \"\", 12)\n",
        "    for line in summary_text.split('\\n'):\n",
        "        pdf.multi_cell(0, 10, line.encode(\"latin-1\", \"replace\").decode(\"latin-1\"))\n",
        "\n",
        "    pdf.ln(5)\n",
        "\n",
        "    # Chart 1: Bloom Pie\n",
        "    if os.path.exists(chart_paths[0]):\n",
        "        pdf.image(chart_paths[0], w=170)\n",
        "        pdf.set_font(\"Arial\", \"I\", 11)\n",
        "        dominant = bloom_grouped.idxmax()\n",
        "        dominant_pct = (bloom_grouped[dominant] / bloom_grouped.sum()) * 100\n",
        "        interpretation = f\"Most marks came from {dominant} level ({dominant_pct:.1f}%), indicating emphasis on {bloom_description(dominant)} questions.\"\n",
        "        pdf.multi_cell(0, 10, interpretation)\n",
        "\n",
        "    # Chart 2: Difficulty Index\n",
        "    if os.path.exists(chart_paths[1]):\n",
        "        pdf.image(chart_paths[1], w=170)\n",
        "        pdf.set_font(\"Arial\", \"I\", 11)\n",
        "        easiest = difficulty.idxmax()\n",
        "        hardest = difficulty.idxmin()\n",
        "        interpretation = f\"Easiest question: {easiest} ({difficulty[easiest]:.1f}%)\\nHardest question: {hardest} ({difficulty[hardest]:.1f}%)\"\n",
        "        pdf.multi_cell(0, 10, interpretation)\n",
        "\n",
        "    # Chart 3: Grade Distribution\n",
        "    if os.path.exists(chart_paths[2]):\n",
        "        pdf.image(chart_paths[2], w=170)\n",
        "        pdf.set_font(\"Arial\", \"I\", 11)\n",
        "        top_grade = grade_counts.idxmax()\n",
        "        interpretation = f\"Most students scored grade '{top_grade}' ({grade_counts[top_grade]} students).\"\n",
        "        if \"D\" in grade_counts and grade_counts[\"D\"] > 0:\n",
        "            interpretation += f\" {grade_counts['D']} students are in grade 'D', suggesting a need for support.\"\n",
        "        pdf.multi_cell(0, 10, interpretation)\n",
        "\n",
        "    filename = os.path.join(output_folder, f\"Division_{div_name}_Report.pdf\")\n",
        "    pdf.output(filename)\n",
        "    return filename\n",
        "\n",
        "# STEP 6: Process all divisions\n",
        "pdf_paths = []\n",
        "\n",
        "for file in sorted(os.listdir(folder_path)):\n",
        "    if file.endswith(\".csv\") and \"Division_Reports\" not in file:\n",
        "        div_name = file.split(\"_\")[0].upper()\n",
        "        df = pd.read_csv(os.path.join(folder_path, file))\n",
        "        df = df.drop(columns=[\"SL.No\", \"Roll.No\", \"USN\", \"Name\"], errors=\"ignore\")\n",
        "        df = df.replace(\"-\", pd.NA).apply(pd.to_numeric, errors=\"coerce\")\n",
        "        df.columns = df.columns.str.strip().str.lower()\n",
        "        valid_qs = list(set(qp_metadata[\"Q.No\"]) & set(df.columns))\n",
        "        df = df[valid_qs]\n",
        "\n",
        "        # Summary Stats\n",
        "        total_scores = df.sum(axis=1, skipna=True)\n",
        "        avg = round(total_scores.mean(), 2)\n",
        "        std = round(total_scores.std(), 2)\n",
        "        min_score = total_scores.min()\n",
        "        max_score = total_scores.max()\n",
        "        count = total_scores.count()\n",
        "\n",
        "        summary_text = (\n",
        "            f\"Summary Stats for Division {div_name}:\\n\"\n",
        "            f\"- Average Score: {avg}\\n\"\n",
        "            f\"- Std Deviation: {std}\\n\"\n",
        "            f\"- Max Score: {max_score}\\n\"\n",
        "            f\"- Min Score: {min_score}\\n\"\n",
        "            f\"- Student Count: {count}\\n\"\n",
        "        )\n",
        "\n",
        "        # Bloom Pie Chart\n",
        "        summary = pd.DataFrame(index=df.columns)\n",
        "        summary[\"Avg Marks\"] = df.mean()\n",
        "        summary[\"Max Marks\"] = summary.index.map(qp_metadata.set_index(\"Q.No\")[\"Max Marks\"].astype(int))\n",
        "        summary[\"Bloom Level\"] = summary.index.map(qp_metadata.set_index(\"Q.No\")[\"Bloom Level\"])\n",
        "        bloom_grouped = summary.groupby(\"Bloom Level\")[\"Avg Marks\"].sum()\n",
        "\n",
        "        pie_path = os.path.join(output_folder, f\"{div_name}_bloom_pie.png\")\n",
        "        plt.figure(figsize=(5, 5))\n",
        "        plt.pie(bloom_grouped, labels=bloom_grouped.index, autopct='%1.1f%%')\n",
        "        plt.title(f\"Bloom's Level - Division {div_name}\")\n",
        "        plt.tight_layout()\n",
        "        plt.savefig(pie_path)\n",
        "        plt.close()\n",
        "\n",
        "        # Difficulty Index Chart\n",
        "        difficulty = ((summary[\"Avg Marks\"] / summary[\"Max Marks\"]) * 100).sort_values()\n",
        "        diff_path = os.path.join(output_folder, f\"{div_name}_difficulty.png\")\n",
        "        plt.figure(figsize=(8, 4))\n",
        "        sns.barplot(x=difficulty.index, y=difficulty.values, hue=difficulty.index, palette=\"coolwarm\", legend=False)\n",
        "        plt.title(f\"Difficulty Index - Division {div_name}\")\n",
        "        plt.ylabel(\"Difficulty Index (%)\")\n",
        "        plt.xticks(rotation=45)\n",
        "        plt.tight_layout()\n",
        "        plt.savefig(diff_path)\n",
        "        plt.close()\n",
        "\n",
        "        # Grade Distribution Chart\n",
        "        df.columns = df.columns.str.lower().str.strip()\n",
        "        question_groups = defaultdict(list)\n",
        "        for q in df.columns:\n",
        "            if q[0].isdigit():\n",
        "                main_q = f\"Q{q[0]}\"\n",
        "                question_groups[main_q].append(q)\n",
        "\n",
        "        grouped_scores = pd.DataFrame(index=df.index)\n",
        "        for group, subqs in question_groups.items():\n",
        "            grouped_scores[group] = df[subqs].sum(axis=1, skipna=True)\n",
        "\n",
        "        grouped_scores[\"Total_40\"] = grouped_scores.apply(lambda row: sum(sorted(row, reverse=True)[:2]), axis=1)\n",
        "        grouped_scores[\"Total_20\"] = (grouped_scores[\"Total_40\"] / 40 * 20).round(2)\n",
        "\n",
        "        score_for_grading = grouped_scores[\"Total_20\"]\n",
        "        grade_series = pd.cut(score_for_grading, bins=[-1, 5, 8, 12, 17, 20], labels=[\"D\", \"C\", \"B\", \"A\", \"S\"])\n",
        "        grade_counts = grade_series.value_counts().sort_index()\n",
        "\n",
        "        grade_path = os.path.join(output_folder, f\"{div_name}_grades.png\")\n",
        "        plt.figure(figsize=(6, 4))\n",
        "        sns.barplot(x=grade_counts.index, y=grade_counts.values, hue=grade_counts.index, palette=\"Set2\", legend=False)\n",
        "        plt.title(f\"Grade Distribution - Division {div_name}\")\n",
        "        plt.xlabel(\"Grade\")\n",
        "        plt.ylabel(\"Number of Students\")\n",
        "        plt.tight_layout()\n",
        "        plt.savefig(grade_path)\n",
        "        plt.close()\n",
        "\n",
        "        # Generate PDF with interpretations\n",
        "        pdf_path = generate_division_pdf(\n",
        "            div_name,\n",
        "            summary_text,\n",
        "            [pie_path, diff_path, grade_path],\n",
        "            output_folder,\n",
        "            bloom_grouped,\n",
        "            difficulty,\n",
        "            grade_counts\n",
        "        )\n",
        "        pdf_paths.append(pdf_path)\n",
        "\n",
        "# STEP 7: Show generated PDF list\n",
        "pd.DataFrame({\"PDF Report Path\": pdf_paths})"
      ],
      "metadata": {
        "colab": {
          "base_uri": "https://localhost:8080/",
          "height": 223
        },
        "id": "eeqKSKLup1NX",
        "outputId": "1e9a2537-fa30-4110-848c-03054c27c875"
      },
      "execution_count": 54,
      "outputs": [
        {
          "output_type": "stream",
          "name": "stdout",
          "text": [
            "Requirement already satisfied: fpdf in /usr/local/lib/python3.11/dist-packages (1.7.2)\n"
          ]
        },
        {
          "output_type": "execute_result",
          "data": {
            "text/plain": [
              "                                     PDF Report Path\n",
              "0  /content/drive/MyDrive/ALL_division/Division_R...\n",
              "1  /content/drive/MyDrive/ALL_division/Division_R...\n",
              "2  /content/drive/MyDrive/ALL_division/Division_R...\n",
              "3  /content/drive/MyDrive/ALL_division/Division_R...\n",
              "4  /content/drive/MyDrive/ALL_division/Division_R..."
            ],
            "text/html": [
              "\n",
              "  <div id=\"df-501c92c4-b656-4d01-96b3-fc6da324cb42\" class=\"colab-df-container\">\n",
              "    <div>\n",
              "<style scoped>\n",
              "    .dataframe tbody tr th:only-of-type {\n",
              "        vertical-align: middle;\n",
              "    }\n",
              "\n",
              "    .dataframe tbody tr th {\n",
              "        vertical-align: top;\n",
              "    }\n",
              "\n",
              "    .dataframe thead th {\n",
              "        text-align: right;\n",
              "    }\n",
              "</style>\n",
              "<table border=\"1\" class=\"dataframe\">\n",
              "  <thead>\n",
              "    <tr style=\"text-align: right;\">\n",
              "      <th></th>\n",
              "      <th>PDF Report Path</th>\n",
              "    </tr>\n",
              "  </thead>\n",
              "  <tbody>\n",
              "    <tr>\n",
              "      <th>0</th>\n",
              "      <td>/content/drive/MyDrive/ALL_division/Division_R...</td>\n",
              "    </tr>\n",
              "    <tr>\n",
              "      <th>1</th>\n",
              "      <td>/content/drive/MyDrive/ALL_division/Division_R...</td>\n",
              "    </tr>\n",
              "    <tr>\n",
              "      <th>2</th>\n",
              "      <td>/content/drive/MyDrive/ALL_division/Division_R...</td>\n",
              "    </tr>\n",
              "    <tr>\n",
              "      <th>3</th>\n",
              "      <td>/content/drive/MyDrive/ALL_division/Division_R...</td>\n",
              "    </tr>\n",
              "    <tr>\n",
              "      <th>4</th>\n",
              "      <td>/content/drive/MyDrive/ALL_division/Division_R...</td>\n",
              "    </tr>\n",
              "  </tbody>\n",
              "</table>\n",
              "</div>\n",
              "    <div class=\"colab-df-buttons\">\n",
              "\n",
              "  <div class=\"colab-df-container\">\n",
              "    <button class=\"colab-df-convert\" onclick=\"convertToInteractive('df-501c92c4-b656-4d01-96b3-fc6da324cb42')\"\n",
              "            title=\"Convert this dataframe to an interactive table.\"\n",
              "            style=\"display:none;\">\n",
              "\n",
              "  <svg xmlns=\"http://www.w3.org/2000/svg\" height=\"24px\" viewBox=\"0 -960 960 960\">\n",
              "    <path d=\"M120-120v-720h720v720H120Zm60-500h600v-160H180v160Zm220 220h160v-160H400v160Zm0 220h160v-160H400v160ZM180-400h160v-160H180v160Zm440 0h160v-160H620v160ZM180-180h160v-160H180v160Zm440 0h160v-160H620v160Z\"/>\n",
              "  </svg>\n",
              "    </button>\n",
              "\n",
              "  <style>\n",
              "    .colab-df-container {\n",
              "      display:flex;\n",
              "      gap: 12px;\n",
              "    }\n",
              "\n",
              "    .colab-df-convert {\n",
              "      background-color: #E8F0FE;\n",
              "      border: none;\n",
              "      border-radius: 50%;\n",
              "      cursor: pointer;\n",
              "      display: none;\n",
              "      fill: #1967D2;\n",
              "      height: 32px;\n",
              "      padding: 0 0 0 0;\n",
              "      width: 32px;\n",
              "    }\n",
              "\n",
              "    .colab-df-convert:hover {\n",
              "      background-color: #E2EBFA;\n",
              "      box-shadow: 0px 1px 2px rgba(60, 64, 67, 0.3), 0px 1px 3px 1px rgba(60, 64, 67, 0.15);\n",
              "      fill: #174EA6;\n",
              "    }\n",
              "\n",
              "    .colab-df-buttons div {\n",
              "      margin-bottom: 4px;\n",
              "    }\n",
              "\n",
              "    [theme=dark] .colab-df-convert {\n",
              "      background-color: #3B4455;\n",
              "      fill: #D2E3FC;\n",
              "    }\n",
              "\n",
              "    [theme=dark] .colab-df-convert:hover {\n",
              "      background-color: #434B5C;\n",
              "      box-shadow: 0px 1px 3px 1px rgba(0, 0, 0, 0.15);\n",
              "      filter: drop-shadow(0px 1px 2px rgba(0, 0, 0, 0.3));\n",
              "      fill: #FFFFFF;\n",
              "    }\n",
              "  </style>\n",
              "\n",
              "    <script>\n",
              "      const buttonEl =\n",
              "        document.querySelector('#df-501c92c4-b656-4d01-96b3-fc6da324cb42 button.colab-df-convert');\n",
              "      buttonEl.style.display =\n",
              "        google.colab.kernel.accessAllowed ? 'block' : 'none';\n",
              "\n",
              "      async function convertToInteractive(key) {\n",
              "        const element = document.querySelector('#df-501c92c4-b656-4d01-96b3-fc6da324cb42');\n",
              "        const dataTable =\n",
              "          await google.colab.kernel.invokeFunction('convertToInteractive',\n",
              "                                                    [key], {});\n",
              "        if (!dataTable) return;\n",
              "\n",
              "        const docLinkHtml = 'Like what you see? Visit the ' +\n",
              "          '<a target=\"_blank\" href=https://colab.research.google.com/notebooks/data_table.ipynb>data table notebook</a>'\n",
              "          + ' to learn more about interactive tables.';\n",
              "        element.innerHTML = '';\n",
              "        dataTable['output_type'] = 'display_data';\n",
              "        await google.colab.output.renderOutput(dataTable, element);\n",
              "        const docLink = document.createElement('div');\n",
              "        docLink.innerHTML = docLinkHtml;\n",
              "        element.appendChild(docLink);\n",
              "      }\n",
              "    </script>\n",
              "  </div>\n",
              "\n",
              "\n",
              "    <div id=\"df-bca5552e-06ac-48d2-bb3a-d968c1389d3a\">\n",
              "      <button class=\"colab-df-quickchart\" onclick=\"quickchart('df-bca5552e-06ac-48d2-bb3a-d968c1389d3a')\"\n",
              "                title=\"Suggest charts\"\n",
              "                style=\"display:none;\">\n",
              "\n",
              "<svg xmlns=\"http://www.w3.org/2000/svg\" height=\"24px\"viewBox=\"0 0 24 24\"\n",
              "     width=\"24px\">\n",
              "    <g>\n",
              "        <path d=\"M19 3H5c-1.1 0-2 .9-2 2v14c0 1.1.9 2 2 2h14c1.1 0 2-.9 2-2V5c0-1.1-.9-2-2-2zM9 17H7v-7h2v7zm4 0h-2V7h2v10zm4 0h-2v-4h2v4z\"/>\n",
              "    </g>\n",
              "</svg>\n",
              "      </button>\n",
              "\n",
              "<style>\n",
              "  .colab-df-quickchart {\n",
              "      --bg-color: #E8F0FE;\n",
              "      --fill-color: #1967D2;\n",
              "      --hover-bg-color: #E2EBFA;\n",
              "      --hover-fill-color: #174EA6;\n",
              "      --disabled-fill-color: #AAA;\n",
              "      --disabled-bg-color: #DDD;\n",
              "  }\n",
              "\n",
              "  [theme=dark] .colab-df-quickchart {\n",
              "      --bg-color: #3B4455;\n",
              "      --fill-color: #D2E3FC;\n",
              "      --hover-bg-color: #434B5C;\n",
              "      --hover-fill-color: #FFFFFF;\n",
              "      --disabled-bg-color: #3B4455;\n",
              "      --disabled-fill-color: #666;\n",
              "  }\n",
              "\n",
              "  .colab-df-quickchart {\n",
              "    background-color: var(--bg-color);\n",
              "    border: none;\n",
              "    border-radius: 50%;\n",
              "    cursor: pointer;\n",
              "    display: none;\n",
              "    fill: var(--fill-color);\n",
              "    height: 32px;\n",
              "    padding: 0;\n",
              "    width: 32px;\n",
              "  }\n",
              "\n",
              "  .colab-df-quickchart:hover {\n",
              "    background-color: var(--hover-bg-color);\n",
              "    box-shadow: 0 1px 2px rgba(60, 64, 67, 0.3), 0 1px 3px 1px rgba(60, 64, 67, 0.15);\n",
              "    fill: var(--button-hover-fill-color);\n",
              "  }\n",
              "\n",
              "  .colab-df-quickchart-complete:disabled,\n",
              "  .colab-df-quickchart-complete:disabled:hover {\n",
              "    background-color: var(--disabled-bg-color);\n",
              "    fill: var(--disabled-fill-color);\n",
              "    box-shadow: none;\n",
              "  }\n",
              "\n",
              "  .colab-df-spinner {\n",
              "    border: 2px solid var(--fill-color);\n",
              "    border-color: transparent;\n",
              "    border-bottom-color: var(--fill-color);\n",
              "    animation:\n",
              "      spin 1s steps(1) infinite;\n",
              "  }\n",
              "\n",
              "  @keyframes spin {\n",
              "    0% {\n",
              "      border-color: transparent;\n",
              "      border-bottom-color: var(--fill-color);\n",
              "      border-left-color: var(--fill-color);\n",
              "    }\n",
              "    20% {\n",
              "      border-color: transparent;\n",
              "      border-left-color: var(--fill-color);\n",
              "      border-top-color: var(--fill-color);\n",
              "    }\n",
              "    30% {\n",
              "      border-color: transparent;\n",
              "      border-left-color: var(--fill-color);\n",
              "      border-top-color: var(--fill-color);\n",
              "      border-right-color: var(--fill-color);\n",
              "    }\n",
              "    40% {\n",
              "      border-color: transparent;\n",
              "      border-right-color: var(--fill-color);\n",
              "      border-top-color: var(--fill-color);\n",
              "    }\n",
              "    60% {\n",
              "      border-color: transparent;\n",
              "      border-right-color: var(--fill-color);\n",
              "    }\n",
              "    80% {\n",
              "      border-color: transparent;\n",
              "      border-right-color: var(--fill-color);\n",
              "      border-bottom-color: var(--fill-color);\n",
              "    }\n",
              "    90% {\n",
              "      border-color: transparent;\n",
              "      border-bottom-color: var(--fill-color);\n",
              "    }\n",
              "  }\n",
              "</style>\n",
              "\n",
              "      <script>\n",
              "        async function quickchart(key) {\n",
              "          const quickchartButtonEl =\n",
              "            document.querySelector('#' + key + ' button');\n",
              "          quickchartButtonEl.disabled = true;  // To prevent multiple clicks.\n",
              "          quickchartButtonEl.classList.add('colab-df-spinner');\n",
              "          try {\n",
              "            const charts = await google.colab.kernel.invokeFunction(\n",
              "                'suggestCharts', [key], {});\n",
              "          } catch (error) {\n",
              "            console.error('Error during call to suggestCharts:', error);\n",
              "          }\n",
              "          quickchartButtonEl.classList.remove('colab-df-spinner');\n",
              "          quickchartButtonEl.classList.add('colab-df-quickchart-complete');\n",
              "        }\n",
              "        (() => {\n",
              "          let quickchartButtonEl =\n",
              "            document.querySelector('#df-bca5552e-06ac-48d2-bb3a-d968c1389d3a button');\n",
              "          quickchartButtonEl.style.display =\n",
              "            google.colab.kernel.accessAllowed ? 'block' : 'none';\n",
              "        })();\n",
              "      </script>\n",
              "    </div>\n",
              "\n",
              "    </div>\n",
              "  </div>\n"
            ],
            "application/vnd.google.colaboratory.intrinsic+json": {
              "type": "dataframe",
              "summary": "{\n  \"name\": \"pd\",\n  \"rows\": 5,\n  \"fields\": [\n    {\n      \"column\": \"PDF Report Path\",\n      \"properties\": {\n        \"dtype\": \"string\",\n        \"num_unique_values\": 5,\n        \"samples\": [\n          \"/content/drive/MyDrive/ALL_division/Division_Reports/Division_B_Report.pdf\",\n          \"/content/drive/MyDrive/ALL_division/Division_Reports/Division_E_Report.pdf\",\n          \"/content/drive/MyDrive/ALL_division/Division_Reports/Division_C_Report.pdf\"\n        ],\n        \"semantic_type\": \"\",\n        \"description\": \"\"\n      }\n    }\n  ]\n}"
            }
          },
          "metadata": {},
          "execution_count": 54
        }
      ]
    },
    {
      "cell_type": "code",
      "source": [],
      "metadata": {
        "id": "FrVxBX90tpvg"
      },
      "execution_count": null,
      "outputs": []
    }
  ]
}